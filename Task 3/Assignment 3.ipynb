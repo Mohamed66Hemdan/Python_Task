{
 "cells": [
  {
   "cell_type": "markdown",
   "metadata": {},
   "source": [
    "# Assignment 3"
   ]
  },
  {
   "cell_type": "markdown",
   "metadata": {},
   "source": [
    "### Write a function to count the number 4 in a given list."
   ]
  },
  {
   "cell_type": "code",
   "execution_count": 5,
   "metadata": {},
   "outputs": [
    {
     "name": "stdout",
     "output_type": "stream",
     "text": [
      "0\n",
      "1\n",
      "2\n"
     ]
    }
   ],
   "source": [
    "def countNum4(num):\n",
    "    count = 0\n",
    "    for n in num:\n",
    "        if n == 4:\n",
    "            count += 1\n",
    "    return count\n",
    "\n",
    "\n",
    "print(countNum4([1, 2, 3, 5]))\n",
    "print(countNum4([1, 2, 3, 4]))\n",
    "print(countNum4([1, 2, 4, 4]))"
   ]
  },
  {
   "cell_type": "markdown",
   "metadata": {},
   "source": [
    "### write a  function to check whether a number is divisible by another number."
   ]
  },
  {
   "cell_type": "code",
   "execution_count": 6,
   "metadata": {},
   "outputs": [
    {
     "name": "stdout",
     "output_type": "stream",
     "text": [
      "6 Is Divisble by 3 ====> 2\n",
      "5 Is Not Divisble by 2\n"
     ]
    }
   ],
   "source": [
    "def divisibleMethod(num1, num2):\n",
    "    if num1 % num2 == 0:\n",
    "        print('{} Is Divisble by {} ====> {}'.format(num1, num2, num1//num2))\n",
    "    else:\n",
    "        print('{} Is Not Divisble by {}'.format(num1, num2))\n",
    "\n",
    "\n",
    "divisibleMethod(6, 3)\n",
    "divisibleMethod(5, 2)"
   ]
  },
  {
   "cell_type": "markdown",
   "metadata": {},
   "source": [
    "### write a function to find the maximum and minimum numbers from a sequence of numbers."
   ]
  },
  {
   "cell_type": "code",
   "execution_count": 7,
   "metadata": {},
   "outputs": [
    {
     "name": "stdout",
     "output_type": "stream",
     "text": [
      "The Maximum Number IS [ 15 ] , The Minmum Number IS [ 5 ]\n"
     ]
    }
   ],
   "source": [
    "def MaxAndMinNumber(l):\n",
    "    print('The Maximum Number IS [ {} ] , The Minmum Number IS [ {} ]'.format(\n",
    "        max(l), min(l)))\n",
    "\n",
    "\n",
    "MaxAndMinNumber([5, 9, 6, 15])"
   ]
  },
  {
   "cell_type": "markdown",
   "metadata": {},
   "source": [
    "### Write a Python function that takes two lists and returns True if they have at least one common member."
   ]
  },
  {
   "cell_type": "code",
   "execution_count": 9,
   "metadata": {},
   "outputs": [
    {
     "name": "stdout",
     "output_type": "stream",
     "text": [
      "The 3 Is Common Between Two List.\n"
     ]
    }
   ],
   "source": [
    "def commonNum(l1, l2):\n",
    "    for i in range(0, len(l2)):\n",
    "        if l1[i] == l2[i]:\n",
    "            print(\"The {} Is Common Between Two List.\".format(l1[i]))\n",
    "            break\n",
    "\n",
    "\n",
    "commonNum([6, 2, 3], [1, 5, 3])\n"
   ]
  },
  {
   "cell_type": "markdown",
   "metadata": {},
   "source": [
    "### Write a Python function to calculate the factorial of a number (a non-negative integer). The function accepts the number from the user"
   ]
  },
  {
   "cell_type": "code",
   "execution_count": 8,
   "metadata": {},
   "outputs": [
    {
     "name": "stdout",
     "output_type": "stream",
     "text": [
      "Enter The Number: 5\n",
      "The Factorial Number IS [ 120 ]\n"
     ]
    }
   ],
   "source": [
    "def factMethod(num):\n",
    "    fact = 1\n",
    "    for n in range(1, num+1):\n",
    "        fact *= n\n",
    "        n += 1\n",
    "\n",
    "    print(\"The Factorial Number IS [ {} ]\".format(fact))\n",
    "\n",
    "\n",
    "num = abs(int(input('Enter The Number: ')))\n",
    "factMethod(num)"
   ]
  },
  {
   "cell_type": "markdown",
   "metadata": {},
   "source": [
    "### Write a Python function to check whether a number is in a given range.\n",
    "\n",
    "### The range is from 3 to 11\n"
   ]
  },
  {
   "cell_type": "code",
   "execution_count": 10,
   "metadata": {},
   "outputs": [
    {
     "name": "stdout",
     "output_type": "stream",
     "text": [
      "6 In The range between [ 3 ===> 11 ]\n"
     ]
    }
   ],
   "source": [
    "def numRange(num, r1, r2):\n",
    "    if num in range(r1, r2+1):\n",
    "        print(\"{} In The range between [ {} ===> {} ]\".format(num, r1, r2))\n",
    "    else:\n",
    "        print(\"{}  Not!! In The range between [ {} ===> {} ]\".format(\n",
    "            num, r1, r2))\n",
    "\n",
    "\n",
    "numRange(6, 3, 11)\n"
   ]
  },
  {
   "cell_type": "markdown",
   "metadata": {},
   "source": [
    "### Write a  program to create the multiplication table (from 1 to 10) of a number."
   ]
  },
  {
   "cell_type": "code",
   "execution_count": 11,
   "metadata": {},
   "outputs": [
    {
     "name": "stdout",
     "output_type": "stream",
     "text": [
      "7  *  1  =   7\n",
      "7  *  2  =   14\n",
      "7  *  3  =   21\n",
      "7  *  4  =   28\n",
      "7  *  5  =   35\n",
      "7  *  6  =   42\n",
      "7  *  7  =   49\n",
      "7  *  8  =   56\n",
      "7  *  9  =   63\n",
      "7  *  10  =   70\n"
     ]
    }
   ],
   "source": [
    "def multiplicationTable(num):\n",
    "    for n in range(1, 11):\n",
    "        print('{}  *  {}  =   {}'.format(num, n, n*num))\n",
    "\n",
    "\n",
    "multiplicationTable(7)"
   ]
  },
  {
   "cell_type": "markdown",
   "metadata": {},
   "source": [
    "#### LESSER OF TWO EVENS: Write a function that returns the lesser of two given numbers *if* both numbers are even, but returns the greater if one or both numbers are odd\n",
    "    lesser_of_two_evens(2,4) --> 2\n",
    "    lesser_of_two_evens(2,5) --> 5"
   ]
  },
  {
   "cell_type": "code",
   "execution_count": 14,
   "metadata": {},
   "outputs": [
    {
     "name": "stdout",
     "output_type": "stream",
     "text": [
      "282 & 161  =====> 282\n",
      "282 & 162 IS Even =====> 162\n"
     ]
    }
   ],
   "source": [
    "\n",
    "def maxAndMinEvenOdd(n1, n2):\n",
    "    if n1 % 2 == 0 and n2 % 2 == 0:\n",
    "        print('{} & {} IS Even =====> {}'.format(n1, n2, min(n1, n2)))\n",
    "    else:\n",
    "        print('{} & {}  =====> {}'.format(n1, n2, max(n1, n2)))\n",
    "\n",
    "\n",
    "maxAndMinEvenOdd(282, 161)\n",
    "maxAndMinEvenOdd(282, 162)"
   ]
  },
  {
   "cell_type": "markdown",
   "metadata": {},
   "source": [
    "#### ANIMAL CRACKERS: Write a function takes a two-word string and returns True if both words begin with same letter\n",
    "    animal_crackers('Levelheaded Llama') --> True\n",
    "    animal_crackers('Crazy Kangaroo') --> False"
   ]
  },
  {
   "cell_type": "code",
   "execution_count": 15,
   "metadata": {},
   "outputs": [
    {
     "name": "stdout",
     "output_type": "stream",
     "text": [
      "['Levelheaded', 'Llama']  =====> True \n",
      "['Amr', 'ahmed']  =====> False\n",
      "['Crazy', 'Kangaroo']  =====> False\n"
     ]
    }
   ],
   "source": [
    "\n",
    "def animal_crackers(s):\n",
    "    txt = s.split()\n",
    "    if txt[0][0] == txt[1][0]:\n",
    "        print(txt, \" =====> True \")\n",
    "    else:\n",
    "        print(txt, \" =====> False\")\n",
    "\n",
    "\n",
    "animal_crackers('Levelheaded Llama')\n",
    "animal_crackers('Amr ahmed')\n",
    "animal_crackers('Crazy Kangaroo')"
   ]
  },
  {
   "cell_type": "markdown",
   "metadata": {},
   "source": [
    "#### MAKES TWENTY: Given two integers, return True if the sum of the integers is 20 *or* if one of the integers is 20. If not, return False\n",
    "\n",
    "    makes_twenty(20,10) --> True\n",
    "    makes_twenty(12,8) --> True\n",
    "    makes_twenty(2,3) --> False"
   ]
  },
  {
   "cell_type": "code",
   "execution_count": 19,
   "metadata": {},
   "outputs": [
    {
     "name": "stdout",
     "output_type": "stream",
     "text": [
      "12 & 8 IS =====> True\n",
      "19 & 1 IS =====> True\n",
      "19 & 10 IS =====> False\n",
      "20 & 10 IS =====> True\n"
     ]
    }
   ],
   "source": [
    "def makes_twenty(n1, n2):\n",
    "    if n1 == 20 or n2 == 20 or (n1+n2) == 20:\n",
    "        return '{} & {} IS =====> True'.format(n1, n2)\n",
    "    else:\n",
    "        return '{} & {} IS =====> False'.format(n1, n2)\n",
    "\n",
    "print(makes_twenty(12, 8))\n",
    "print(makes_twenty(19, 1))\n",
    "print(makes_twenty(19, 10))\n",
    "print(makes_twenty(20, 10))"
   ]
  },
  {
   "cell_type": "markdown",
   "metadata": {},
   "source": [
    "#### ALMOST THERE: Given an integer n, return True if n is within 10 of either 100 or 200\n",
    "\n",
    "    almost_there(90) --> True\n",
    "    almost_there(104) --> True\n",
    "    almost_there(150) --> False\n",
    "    almost_there(209) --> True\n",
    "    \n",
    "NOTE: `abs(num)` returns the absolute value of a number"
   ]
  },
  {
   "cell_type": "code",
   "execution_count": 20,
   "metadata": {},
   "outputs": [
    {
     "name": "stdout",
     "output_type": "stream",
     "text": [
      "('90 =====>', True)\n",
      "('104 =====>', True)\n",
      "('150 =====>', False)\n",
      "('209 =====>', True)\n"
     ]
    }
   ],
   "source": [
    "def almost_there(num):\n",
    "    if abs(100-num) <= 10 or abs(200-num) <= 10:\n",
    "        return '{} =====>'.format(num), True\n",
    "    else:\n",
    "        return '{} =====>'.format(num), False\n",
    "\n",
    "\n",
    "print(almost_there(90))\n",
    "print(almost_there(104))\n",
    "print(almost_there(150))\n",
    "print(almost_there(209))"
   ]
  },
  {
   "cell_type": "markdown",
   "metadata": {},
   "source": [
    "#### BLACKJACK: Given three integers between 1 and 11, if their sum is less than or equal to 21, return their sum. If their sum exceeds 21 *and* there's an eleven, reduce the total sum by 10. Finally, if the sum  exceeds 21, return 'BUST'\n",
    "    blackjack(5,6,7) --> 18\n",
    "    blackjack(9,9,9) --> 'BUST'\n",
    "    blackjack(9,9,11) --> 19"
   ]
  },
  {
   "cell_type": "code",
   "execution_count": 22,
   "metadata": {},
   "outputs": [
    {
     "name": "stdout",
     "output_type": "stream",
     "text": [
      "BUST\n",
      "('Sum = ', 18)\n",
      "('Sum = ', 19)\n",
      "('Sum = ', 21)\n"
     ]
    }
   ],
   "source": [
    "def blackjack(n1, n2, n3):\n",
    "    if (n1+n2+n3) <= 21:\n",
    "        return 'Sum = ', (n1+n2+n3)\n",
    "    elif (n1+n2+n3) > 21 and 11 in (n1, n2, n3): # (in variable) ===> important\n",
    "        return 'Sum = ', ((n1+n2+n3)-10)\n",
    "    else:\n",
    "        return 'BUST'\n",
    "\n",
    "\n",
    "print(blackjack(9, 9, 9))\n",
    "print(blackjack(5, 6, 7))\n",
    "print(blackjack(9, 9, 11))\n",
    "print(blackjack(11, 9, 11))"
   ]
  },
  {
   "cell_type": "code",
   "execution_count": null,
   "metadata": {},
   "outputs": [],
   "source": []
  }
 ],
 "metadata": {
  "kernelspec": {
   "display_name": "Python 3 (ipykernel)",
   "language": "python",
   "name": "python3"
  },
  "language_info": {
   "codemirror_mode": {
    "name": "ipython",
    "version": 3
   },
   "file_extension": ".py",
   "mimetype": "text/x-python",
   "name": "python",
   "nbconvert_exporter": "python",
   "pygments_lexer": "ipython3",
   "version": "3.9.12"
  }
 },
 "nbformat": 4,
 "nbformat_minor": 2
}
