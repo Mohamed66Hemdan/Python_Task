{
 "cells": [
  {
   "cell_type": "markdown",
   "metadata": {
    "collapsed": true
   },
   "source": [
    "# Assignment 2\n",
    "Let's test your knowledge!"
   ]
  },
  {
   "cell_type": "markdown",
   "metadata": {},
   "source": [
    "_____\n",
    "**Use <code>for</code>, .split(), and <code>if</code> to create a Statement that will print out words that start with 's':**"
   ]
  },
  {
   "cell_type": "code",
   "execution_count": null,
   "metadata": {},
   "outputs": [],
   "source": [
    "st = 'Print only the words that start with s in this sentence'"
   ]
  },
  {
   "cell_type": "code",
   "execution_count": 3,
   "metadata": {},
   "outputs": [
    {
     "name": "stdout",
     "output_type": "stream",
     "text": [
      "start\n",
      "s\n",
      "sentence\n"
     ]
    }
   ],
   "source": [
    "#Code here\n",
    "st = 'Print only the words that start with s in this sentence'\n",
    "for i in st.split():\n",
    "    if i.startswith(\"s\"):\n",
    "        print(i)"
   ]
  },
  {
   "cell_type": "markdown",
   "metadata": {},
   "source": [
    "______\n",
    "**Use range() to print all the even numbers from 0 to 10.**"
   ]
  },
  {
   "cell_type": "code",
   "execution_count": 1,
   "metadata": {},
   "outputs": [
    {
     "name": "stdout",
     "output_type": "stream",
     "text": [
      "0\n",
      "2\n",
      "4\n",
      "6\n",
      "8\n",
      "10\n"
     ]
    }
   ],
   "source": [
    "for i in range(0, 11):\n",
    "    if i % 2 == 0:\n",
    "        print(i)"
   ]
  },
  {
   "cell_type": "markdown",
   "metadata": {},
   "source": [
    "___\n",
    "**Use a List Comprehension to create a list of all numbers between 1 and 50 that are divisible by 3.**"
   ]
  },
  {
   "cell_type": "code",
   "execution_count": 4,
   "metadata": {},
   "outputs": [
    {
     "name": "stdout",
     "output_type": "stream",
     "text": [
      "[3, 6, 9, 12, 15, 18, 21, 24, 27, 30, 33, 36, 39, 42, 45, 48]\n"
     ]
    }
   ],
   "source": [
    "#Code Here\n",
    "l = []\n",
    "for i in range(1, 51):\n",
    "    if i % 3 == 0:\n",
    "        l.append(i)\n",
    "\n",
    "print(l)"
   ]
  },
  {
   "cell_type": "markdown",
   "metadata": {},
   "source": [
    "_____\n",
    "**Go through the string below and if the length of a word is even print \"even!\"**"
   ]
  },
  {
   "cell_type": "code",
   "execution_count": null,
   "metadata": {},
   "outputs": [],
   "source": [
    "st = 'Print every word in this sentence that has an even number of letters'"
   ]
  },
  {
   "cell_type": "code",
   "execution_count": 6,
   "metadata": {},
   "outputs": [
    {
     "name": "stdout",
     "output_type": "stream",
     "text": [
      "word===> {EVEN !}\n",
      "in===> {EVEN !}\n",
      "this===> {EVEN !}\n",
      "sentence===> {EVEN !}\n",
      "that===> {EVEN !}\n",
      "an===> {EVEN !}\n",
      "even===> {EVEN !}\n",
      "number===> {EVEN !}\n",
      "of===> {EVEN !}\n"
     ]
    }
   ],
   "source": [
    "#Code in this cell\n",
    "st1 = 'Print every word in this sentence that has an even number of letters'\n",
    "for i in st1.split():\n",
    "    if len(i) % 2 == 0:\n",
    "        print(i + \"===> {EVEN !}\")"
   ]
  },
  {
   "cell_type": "markdown",
   "metadata": {},
   "source": [
    "____\n",
    "**Write a program that prints the integers from 1 to 100. But for multiples of three print \"Fizz\" instead of the number, and for the multiples of five print \"Buzz\". For numbers which are multiples of both three and five print \"FizzBuzz\".**"
   ]
  },
  {
   "cell_type": "code",
   "execution_count": 8,
   "metadata": {},
   "outputs": [
    {
     "name": "stdout",
     "output_type": "stream",
     "text": [
      "3 FiZZ {multible 3}\n",
      "5 BuZZ {multible 5}\n",
      "6 FiZZ {multible 3}\n",
      "9 FiZZ {multible 3}\n",
      "10 BuZZ {multible 5}\n",
      "12 FiZZ {multible 3}\n",
      "15 FiZZ {multible 3}\n",
      "15 BuZZ {multible 5}\n",
      "15 FizzBuzz {multible 3 & 5}\n",
      "18 FiZZ {multible 3}\n",
      "20 BuZZ {multible 5}\n",
      "21 FiZZ {multible 3}\n",
      "24 FiZZ {multible 3}\n",
      "25 BuZZ {multible 5}\n",
      "27 FiZZ {multible 3}\n",
      "30 FiZZ {multible 3}\n",
      "30 BuZZ {multible 5}\n",
      "30 FizzBuzz {multible 3 & 5}\n",
      "33 FiZZ {multible 3}\n",
      "35 BuZZ {multible 5}\n",
      "36 FiZZ {multible 3}\n",
      "39 FiZZ {multible 3}\n",
      "40 BuZZ {multible 5}\n",
      "42 FiZZ {multible 3}\n",
      "45 FiZZ {multible 3}\n",
      "45 BuZZ {multible 5}\n",
      "45 FizzBuzz {multible 3 & 5}\n",
      "48 FiZZ {multible 3}\n",
      "50 BuZZ {multible 5}\n",
      "51 FiZZ {multible 3}\n",
      "54 FiZZ {multible 3}\n",
      "55 BuZZ {multible 5}\n",
      "57 FiZZ {multible 3}\n",
      "60 FiZZ {multible 3}\n",
      "60 BuZZ {multible 5}\n",
      "60 FizzBuzz {multible 3 & 5}\n",
      "63 FiZZ {multible 3}\n",
      "65 BuZZ {multible 5}\n",
      "66 FiZZ {multible 3}\n",
      "69 FiZZ {multible 3}\n",
      "70 BuZZ {multible 5}\n",
      "72 FiZZ {multible 3}\n",
      "75 FiZZ {multible 3}\n",
      "75 BuZZ {multible 5}\n",
      "75 FizzBuzz {multible 3 & 5}\n",
      "78 FiZZ {multible 3}\n",
      "80 BuZZ {multible 5}\n",
      "81 FiZZ {multible 3}\n",
      "84 FiZZ {multible 3}\n",
      "85 BuZZ {multible 5}\n",
      "87 FiZZ {multible 3}\n",
      "90 FiZZ {multible 3}\n",
      "90 BuZZ {multible 5}\n",
      "90 FizzBuzz {multible 3 & 5}\n",
      "93 FiZZ {multible 3}\n",
      "95 BuZZ {multible 5}\n",
      "96 FiZZ {multible 3}\n",
      "99 FiZZ {multible 3}\n",
      "FiZZ {multible 3}  [3, 6, 9, 12, 15, 18, 21, 24, 27, 30, 33, 36, 39, 42, 45, 48, 51, 54, 57, 60, 63, 66, 69, 72, 75, 78, 81, 84, 87, 90, 93, 96, 99]\n",
      "BUZZ {multible 5}  [5, 10, 15, 20, 25, 30, 35, 40, 45, 50, 55, 60, 65, 70, 75, 80, 85, 90, 95]\n",
      "FizzBuZZ {multible 3 & 5}  [15, 30, 45, 60, 75, 90]\n"
     ]
    }
   ],
   "source": [
    "#Code in this cell\n",
    "l1 = []\n",
    "l2 = []\n",
    "l3 = []\n",
    "for i in range(1, 100):\n",
    "    if i % 3 == 0:\n",
    "        l1.append(i)\n",
    "        print(i, \"FiZZ {multible 3}\")\n",
    "\n",
    "    if i % 5 == 0:\n",
    "        l2.append(i)\n",
    "        print(i, \"BuZZ {multible 5}\")\n",
    "\n",
    "    if i % 5 == 0 and i % 3 == 0:\n",
    "        l3.append(i)\n",
    "        print(i, \"FizzBuzz {multible 3 & 5}\")\n",
    "\n",
    "print(\"FiZZ {multible 3} \", l1)\n",
    "print(\"BUZZ {multible 5} \", l2)\n",
    "print(\"FizzBuZZ {multible 3 & 5} \", l3)"
   ]
  },
  {
   "cell_type": "markdown",
   "metadata": {},
   "source": [
    "____\n",
    "**Use List Comprehension to create a list of the first letters of every word in the string below:**"
   ]
  },
  {
   "cell_type": "code",
   "execution_count": null,
   "metadata": {},
   "outputs": [],
   "source": [
    "st = 'Create a list of the first letters of every word in this string'"
   ]
  },
  {
   "cell_type": "code",
   "execution_count": 5,
   "metadata": {},
   "outputs": [
    {
     "name": "stdout",
     "output_type": "stream",
     "text": [
      "['C', 'a', 'l', 'o', 't', 'f', 'l', 'o', 'e', 'w', 'i', 't', 's']\n"
     ]
    }
   ],
   "source": [
    "#Code in this cell\n",
    "l = []\n",
    "st2 = 'Create a list of the first letters of every word in this string'\n",
    "for i in st2.split():\n",
    "    l.append(i[0])\n",
    "print(l)"
   ]
  },
  {
   "cell_type": "markdown",
   "metadata": {},
   "source": [
    "### Great Job!"
   ]
  }
 ],
 "metadata": {
  "kernelspec": {
   "display_name": "Python 3 (ipykernel)",
   "language": "python",
   "name": "python3"
  },
  "language_info": {
   "codemirror_mode": {
    "name": "ipython",
    "version": 3
   },
   "file_extension": ".py",
   "mimetype": "text/x-python",
   "name": "python",
   "nbconvert_exporter": "python",
   "pygments_lexer": "ipython3",
   "version": "3.9.12"
  }
 },
 "nbformat": 4,
 "nbformat_minor": 1
}
