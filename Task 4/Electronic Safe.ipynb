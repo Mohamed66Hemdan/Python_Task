{
 "cells": [
  {
   "cell_type": "code",
   "execution_count": 3,
   "id": "c77c0c35",
   "metadata": {},
   "outputs": [
    {
     "name": "stdout",
     "output_type": "stream",
     "text": [
      "\n",
      "=================================== Project Electronic Safe =================================\n",
      "\n",
      "==> login press 1.\n",
      "==> sign up press 2.\n",
      "Please Enter login or sign up: 2\n",
      "==================================================\n",
      "==> Enter Your Data.\n",
      "Email : mohamed2021\n",
      "Password : 1234\n",
      "The Register Account Sucessful.\n"
     ]
    }
   ],
   "source": [
    "print(\"\\n=================================== Project Electronic Safe =================================\\n\")\n",
    "\n",
    "\n",
    "class electronicSafe:\n",
    "    # ===> Dictionary of Data\n",
    "    __list_signUp_login = {'mohamed': '12345',\n",
    "                           'ahmed': '12345', 'omar': '123456'}\n",
    "\n",
    "    # =======> ## constructor\n",
    "    def __init__(self, request):\n",
    "        self.request = request\n",
    "        if self.request == 1:\n",
    "            electronicSafe.__login(self)\n",
    "        elif self.request == 2:\n",
    "            electronicSafe.__signUp(self)\n",
    "        else:\n",
    "            print('Please Enter Correct Number.')\n",
    "    # =======> #### Function login\n",
    "\n",
    "    def __login(self):\n",
    "        print(\"==================================================\")\n",
    "        print(\"==> Enter Email & password.\")\n",
    "        account = input(\"Email : \")\n",
    "        password = input(\"Password : \")\n",
    "        if account in self.__list_signUp_login and password == self.__list_signUp_login[account]:\n",
    "            print(\"The Login Account Sucessful.\")\n",
    "        else:\n",
    "            print(\"The Login Fail\")\n",
    "    # =======> #### Function Sign Up\n",
    "\n",
    "    def __signUp(self):\n",
    "        print(\"==================================================\")\n",
    "        print(\"==> Enter Your Data.\")\n",
    "        account = input(\"Email : \")\n",
    "        password = input(\"Password : \")\n",
    "        self.__list_signUp_login.update({account: password})\n",
    "        print(\"The Register Account Sucessful.\")\n",
    "\n",
    "    # =======>Show Data\n",
    "    def showData(self):\n",
    "        print(self.__list_signUp_login)\n",
    "\n",
    "\n",
    "\"\"\" ---------------------------- main -------------------------------------------\"\"\"\n",
    "\n",
    "print(\"==> login press 1.\")\n",
    "print(\"==> sign up press 2.\")\n",
    "try:\n",
    "    request = int(input(\"Please Enter login or sign up: \"))\n",
    "    ob = electronicSafe(request)\n",
    "    # ob.showData()\n",
    "except:\n",
    "    print('Please Enter Correct Choice.')"
   ]
  },
  {
   "cell_type": "code",
   "execution_count": null,
   "id": "3a374c34",
   "metadata": {},
   "outputs": [],
   "source": []
  }
 ],
 "metadata": {
  "kernelspec": {
   "display_name": "Python 3 (ipykernel)",
   "language": "python",
   "name": "python3"
  },
  "language_info": {
   "codemirror_mode": {
    "name": "ipython",
    "version": 3
   },
   "file_extension": ".py",
   "mimetype": "text/x-python",
   "name": "python",
   "nbconvert_exporter": "python",
   "pygments_lexer": "ipython3",
   "version": "3.9.12"
  }
 },
 "nbformat": 4,
 "nbformat_minor": 5
}
